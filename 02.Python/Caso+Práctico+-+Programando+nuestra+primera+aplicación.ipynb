{
 "cells": [
  {
   "attachments": {},
   "cell_type": "markdown",
   "metadata": {},
   "source": [
    "# Caso Práctico: Programando nuestra primera aplicación"
   ]
  },
  {
   "attachments": {},
   "cell_type": "markdown",
   "metadata": {},
   "source": [
    "### Enunciado y contexto del ejercicio"
   ]
  },
  {
   "attachments": {},
   "cell_type": "markdown",
   "metadata": {},
   "source": [
    "Uno de los mecanismos más utilizados para verificar la integridad de la información son las funciones **hash**. Una función hash recibe como argumento un objeto, en este caso, una cadena de texto de longitud variable, y nos devuelve un número entero de longitud fija que identifica de manera unívoca el contenido de la cadena de texto. En el caso de que cambie cualquier carácter de la cadena de texto, el valor que proporcionará la función hash será completamente distinto.\n",
    "\n",
    "Cuando nosotros mandamos un mensaje de texto a otra persona, podemos garantizar que el mensaje no ha sido modificado en tránsito si añadimos junto con el mensaje el resultado de una función hash. De esta manera, cuando el mensaje sea recibido por el receptor, puede utilizar la misma función hash para comprobar que el resultado que le proporciona es el mismo que el que nosotros hemos añadido. En caso contrario, el mensaje habrá sido modificado en tránsito.\n",
    "\n",
    "**En este ejercicio práctico se propone la creación de una sencilla aplicación en Python que nos ayude a verificar la integridad de un mensaje calculando la función hash de una cadena de texto que el usuario le proporcione.**\n",
    "\n",
    "¡Completa todos los apartados que se muestran a continuación para conseguir construir la aplicación!"
   ]
  },
  {
   "attachments": {},
   "cell_type": "markdown",
   "metadata": {},
   "source": [
    "### 1. Cabecera de la aplicación"
   ]
  },
  {
   "attachments": {},
   "cell_type": "markdown",
   "metadata": {},
   "source": [
    "Cuando creamos una aplicación de consola de comandos, una de las cosas interesantes es añair una cabecera donde se indique el título de la aplicación y el creador."
   ]
  },
  {
   "cell_type": "code",
   "execution_count": 34,
   "metadata": {},
   "outputs": [],
   "source": [
    "def cabecera():\n",
    "    a = \"\"\"  _   _                                        \n",
    "| |_| |__   ___   _ __ ___   ___   ___  _ __  \n",
    "| __| '_ \\ / _ \\ | '_ ` _ \\ / _ \\ / _ \\| '_ \\ \n",
    "| |_| | | |  __/ | | | | | | (_) | (_) | | | |\n",
    " \\__|_| |_|\\___| |_| |_| |_|\\___/ \\___/|_| |_|\n",
    " santiago                 \"\"\"    \n",
    "\n",
    "    print(a)"
   ]
  },
  {
   "cell_type": "code",
   "execution_count": 35,
   "metadata": {},
   "outputs": [
    {
     "name": "stdout",
     "output_type": "stream",
     "text": [
      "  _   _                                        \n",
      "| |_| |__   ___   _ __ ___   ___   ___  _ __  \n",
      "| __| '_ \\ / _ \\ | '_ ` _ \\ / _ \\ / _ \\| '_ \\ \n",
      "| |_| | | |  __/ | | | | | | (_) | (_) | | | |\n",
      " \\__|_| |_|\\___| |_| |_| |_|\\___/ \\___/|_| |_|\n",
      " santiago                 \n"
     ]
    }
   ],
   "source": [
    "cabecera()"
   ]
  },
  {
   "attachments": {},
   "cell_type": "markdown",
   "metadata": {},
   "source": [
    "<div style=\"background-color:#D9EEFF;color:black;padding:2%;\">\n",
    "Crea una función en Python que saque por pantalla el título de tu aplicación y el nombre de su creador.\n",
    "\n",
    "Como consejo personal, cuando yo programo aplicaciones de consola de comandos, me gusta utilizar ASCII Art para la cabecera, ¡te dejo por aquí una referencia! https://patorjk.com/software/taag/#p=testall&f=ANSI%20Shadow&t=Titulo\n",
    "</div>"
   ]
  },
  {
   "attachments": {},
   "cell_type": "markdown",
   "metadata": {},
   "source": [
    "**Pista:** Es posible que te resulte de interés utilizar un String multilínea para definir el texto de tu cabecera."
   ]
  },
  {
   "attachments": {},
   "cell_type": "markdown",
   "metadata": {},
   "source": [
    "### 2. Calculando el hash de una cadena de texto"
   ]
  },
  {
   "attachments": {},
   "cell_type": "markdown",
   "metadata": {},
   "source": [
    "¡Muy bien! Una vez que has decidido un nombre para tu aplicación y has creado una función que saca por pantalla su cabecera, es el momento de implementar su funcionalidad."
   ]
  },
  {
   "attachments": {},
   "cell_type": "markdown",
   "metadata": {},
   "source": [
    "<div style=\"background-color:#D9EEFF;color:black;padding:2%;\">\n",
    "Utiliza una función en Python para calcular el hash de una cadena de texto. Revisa las funciones que vienen implementadas por defecto en Python 3, quizás alguna de ellas puede servirte para calcular el hash de una cadena de texto. ¡Te dejo por aquí una referencia a las funciones para que les eches un ojo! https://docs.python.org/3/library/functions.html#built-in-functions\n",
    "</div>"
   ]
  },
  {
   "cell_type": "code",
   "execution_count": 36,
   "metadata": {},
   "outputs": [],
   "source": [
    "mensaje = \"esto es un mensaje importante\""
   ]
  },
  {
   "cell_type": "code",
   "execution_count": 37,
   "metadata": {},
   "outputs": [
    {
     "data": {
      "text/plain": [
       "-2716262695702836853"
      ]
     },
     "execution_count": 37,
     "metadata": {},
     "output_type": "execute_result"
    }
   ],
   "source": [
    "hash(mensaje)"
   ]
  },
  {
   "attachments": {},
   "cell_type": "markdown",
   "metadata": {},
   "source": [
    "### 3. Solicitando al usuario una cadena de texto"
   ]
  },
  {
   "attachments": {},
   "cell_type": "markdown",
   "metadata": {},
   "source": [
    "¡Estupendo! Ya tienes gran parte de tu aplicación implementada. Lo siguiente que debes implementar es un mecanismo para poder mensajes de los usuarios."
   ]
  },
  {
   "attachments": {},
   "cell_type": "markdown",
   "metadata": {},
   "source": [
    "<div style=\"background-color:#D9EEFF;color:black;padding:2%;\">\n",
    "Utiliza una función en Python para recibir cadenas de texto de los usuarios de manera interactiva. Revisa las funciones que vienen implementadas por defecto en Python 3, quizás alguna de ellas puede servirte para obtener input de los usuarios. ¡Te dejo por aquí una referencia a las funciones para que les eches un ojo! https://docs.python.org/3/library/functions.html#built-in-functions\n",
    "</div>"
   ]
  },
  {
   "cell_type": "code",
   "execution_count": 38,
   "metadata": {},
   "outputs": [],
   "source": [
    "texto = input (\"introduce un mensaje: \")"
   ]
  },
  {
   "cell_type": "code",
   "execution_count": 39,
   "metadata": {},
   "outputs": [
    {
     "data": {
      "text/plain": [
       "str"
      ]
     },
     "execution_count": 39,
     "metadata": {},
     "output_type": "execute_result"
    }
   ],
   "source": [
    "type(texto)"
   ]
  },
  {
   "attachments": {},
   "cell_type": "markdown",
   "metadata": {},
   "source": [
    "### 4. Construye la aplicación final"
   ]
  },
  {
   "attachments": {},
   "cell_type": "markdown",
   "metadata": {},
   "source": [
    "¡Enhorabuena! Ya tienes listos todos los componentes que necesitas para construir la aplicación final utilizando Python 3."
   ]
  },
  {
   "attachments": {},
   "cell_type": "markdown",
   "metadata": {},
   "source": [
    "<div style=\"background-color:#D9EEFF;color:black;padding:2%;\">\n",
    "Pon en común todo lo que has implementado en las secciones anteriores y construye la aplicación final.\n",
    "</div>"
   ]
  },
  {
   "cell_type": "code",
   "execution_count": 40,
   "metadata": {},
   "outputs": [
    {
     "name": "stdout",
     "output_type": "stream",
     "text": [
      "  _   _                                        \n",
      "| |_| |__   ___   _ __ ___   ___   ___  _ __  \n",
      "| __| '_ \\ / _ \\ | '_ ` _ \\ / _ \\ / _ \\| '_ \\ \n",
      "| |_| | | |  __/ | | | | | | (_) | (_) | | | |\n",
      " \\__|_| |_|\\___| |_| |_| |_|\\___/ \\___/|_| |_|\n",
      " santiago                 \n",
      "\n",
      "El has del mensaje es: -8957604976917641208\n"
     ]
    }
   ],
   "source": [
    "# sacar por pantalla la cabecera de la aplicacion\n",
    "cabecera()\n",
    "# solicitar al usuario el mensaje\n",
    "mensaje = input(\"introduce un mensaje: \")\n",
    "# obtener el hash del mensaje\n",
    "hash_value = hash(mensaje)\n",
    "# sacar por pantalla el hash del mensaje\n",
    "print(\"\\nEl has del mensaje es:\", hash_value)"
   ]
  },
  {
   "attachments": {},
   "cell_type": "markdown",
   "metadata": {},
   "source": [
    "### 5. Ejecuta la aplicación con PyCharm y con una consola de comandos"
   ]
  },
  {
   "attachments": {},
   "cell_type": "markdown",
   "metadata": {},
   "source": [
    "<div style=\"background-color:#D9EEFF;color:black;padding:2%;\">\n",
    "Para terminar con el ejercicio, crea un nuevo proyecto en PyCharm, copia el código que has desarrollado y ejecútalo con PyCharm y una consola de comandos de tu sistema operativo.\n",
    "</div>"
   ]
  },
  {
   "attachments": {},
   "cell_type": "markdown",
   "metadata": {},
   "source": [
    "<div style=\"background-color:#FFD9D9;color:black;padding:2%;\">\n",
    "Cuando ejecutes la aplicación fuera de Jupyter Notebook, es posible que el valor hash que te proporcione tu aplicación varíe con cada ejecución a pesar de introducir la misma cadena de texto. Esto es debido a un detalle de implementación de esta función de Python, en la que se usa una semilla aleatoria para calcular el valor del hash. Más información: https://stackoverflow.com/a/27522708\n",
    "</div>"
   ]
  },
  {
   "cell_type": "code",
   "execution_count": null,
   "metadata": {},
   "outputs": [],
   "source": []
  }
 ],
 "metadata": {
  "kernelspec": {
   "display_name": "Python 3",
   "language": "python",
   "name": "python3"
  },
  "language_info": {
   "codemirror_mode": {
    "name": "ipython",
    "version": 3
   },
   "file_extension": ".py",
   "mimetype": "text/x-python",
   "name": "python",
   "nbconvert_exporter": "python",
   "pygments_lexer": "ipython3",
   "version": "3.11.3"
  }
 },
 "nbformat": 4,
 "nbformat_minor": 4
}
