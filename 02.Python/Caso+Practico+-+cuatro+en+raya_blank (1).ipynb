{
 "cells": [
  {
   "attachments": {},
   "cell_type": "markdown",
   "metadata": {},
   "source": [
    "# Caso Práctico: Juego cuatro en raya"
   ]
  },
  {
   "attachments": {},
   "cell_type": "markdown",
   "metadata": {},
   "source": [
    "### Enunciado y contexto del ejercicio"
   ]
  },
  {
   "attachments": {},
   "cell_type": "markdown",
   "metadata": {},
   "source": [
    "¡En este ejercicio práctico vamos a implementar nuestro primer videojuego en Python!\n",
    "\n",
    "Concretamente el juego que vamos a programar es el _cuatro en raya_, que consiste en introducir fichas en un tablero para tratar de conseguir cuatro fichas seguidas en vertical, horizontal o diagonal. A continuación se muestra una imagen del juego."
   ]
  },
  {
   "attachments": {},
   "cell_type": "markdown",
   "metadata": {},
   "source": [
    "<div>\n",
    "<img src=\"attachment:image.png\" width=\"300\"/>\n",
    "</div>"
   ]
  },
  {
   "attachments": {},
   "cell_type": "markdown",
   "metadata": {},
   "source": [
    "¡Completa todos los apartados que se muestran a continuación para conseguir implementar estas funciones!"
   ]
  },
  {
   "attachments": {},
   "cell_type": "markdown",
   "metadata": {},
   "source": [
    "### 1. Define e implementa el tablero del juego"
   ]
  },
  {
   "attachments": {},
   "cell_type": "markdown",
   "metadata": {},
   "source": [
    "Lo primero que tenemos que hacer es implementar el tablero del juego, para ello, pensad en todas las estructuras que hemos visto hasta ahora y en la mejor forma de representar este tablero de manera sencilla."
   ]
  },
  {
   "attachments": {},
   "cell_type": "markdown",
   "metadata": {},
   "source": [
    "<div style=\"background-color:#D9EEFF;color:black;padding:2%;\">\n",
    "Implementa una función que genere un tablero nuevo. El tablero no debe ser complejo, para representarlo, utiliza una lista con varias listas anidadas.\n",
    "</div>"
   ]
  },
  {
   "attachments": {},
   "cell_type": "markdown",
   "metadata": {},
   "source": [
    "Una vez implementado el tablero, deberías obtener algo similar a lo siguiente:"
   ]
  },
  {
   "attachments": {},
   "cell_type": "markdown",
   "metadata": {},
   "source": [
    "<div>\n",
    "<img src=\"attachment:image-2.png\" width=\"200\"/>\n",
    "</div>"
   ]
  },
  {
   "attachments": {},
   "cell_type": "markdown",
   "metadata": {},
   "source": [
    "**Pista:** Te recomiendo que la definición de la función sea similar a la siguiente:\n",
    "```\n",
    "def crear_tablero(filas, columnas):\n",
    "    <sentencias para crear el tablero>\n",
    "    return tablero\n",
    "```"
   ]
  },
  {
   "cell_type": "code",
   "execution_count": 163,
   "metadata": {},
   "outputs": [],
   "source": [
    "def crear_tablero(filas,columnas):\n",
    "    \"\"\"crea el tablero de juego.\n",
    "\n",
    "    parametros posicionales\n",
    "    filas -- int que represente el numero de filas del tablero.\n",
    "    columnas -- int que represente el numero de columnas del tablero.\n",
    "    \"\"\"\n",
    "    tablero = [None]*filas\n",
    "    for f in range(filas):\n",
    "        tablero [f] = ['.']*columnas\n",
    "    return tablero "
   ]
  },
  {
   "cell_type": "code",
   "execution_count": 164,
   "metadata": {},
   "outputs": [],
   "source": [
    "tablero = crear_tablero(6, 7)"
   ]
  },
  {
   "cell_type": "code",
   "execution_count": 165,
   "metadata": {},
   "outputs": [
    {
     "data": {
      "text/plain": [
       "[['.', '.', '.', '.', '.', '.', '.'],\n",
       " ['.', '.', '.', '.', '.', '.', '.'],\n",
       " ['.', '.', '.', '.', '.', '.', '.'],\n",
       " ['.', '.', '.', '.', '.', '.', '.'],\n",
       " ['.', '.', '.', '.', '.', '.', '.'],\n",
       " ['.', '.', '.', '.', '.', '.', '.']]"
      ]
     },
     "execution_count": 165,
     "metadata": {},
     "output_type": "execute_result"
    }
   ],
   "source": [
    "tablero"
   ]
  },
  {
   "cell_type": "code",
   "execution_count": 166,
   "metadata": {},
   "outputs": [],
   "source": [
    "def mostrar_tablero(tablero):\n",
    "    \"\"\"muestra el tablero por pantalla.\"\"\"\n",
    "    # sacamos por pantalla la cabecera\n",
    "    for num in range(len(tablero[0])):\n",
    "        print(num, end=' ')\n",
    "    # sacamos por pantalla el tablero\n",
    "    for fila in tablero:\n",
    "        print(\"\")\n",
    "        for casilla in fila:\n",
    "            print(casilla, end= \" \")"
   ]
  },
  {
   "cell_type": "code",
   "execution_count": 167,
   "metadata": {},
   "outputs": [
    {
     "name": "stdout",
     "output_type": "stream",
     "text": [
      "0 1 2 3 4 5 6 \n",
      ". . . . . . . \n",
      ". . . . . . . \n",
      ". . . . . . . \n",
      ". . . . . . . \n",
      ". . . . . . . \n",
      ". . . . . . . "
     ]
    }
   ],
   "source": [
    "mostrar_tablero(tablero)"
   ]
  },
  {
   "cell_type": "code",
   "execution_count": 168,
   "metadata": {},
   "outputs": [],
   "source": [
    "def introducir_ficha (tablero, columna,color):\n",
    "    \"esta funcion introduce una ficha en el tablero indicado.\"\n",
    "    if columna >= len(tablero[0]) or columna < 0:\n",
    "        print (\"ERROR Numero de columna fuera del rango. \")\n",
    "        return\n",
    "    elif tablero[0][columna]!= '.':\n",
    "            print (\"ERROR Numero de columna esta llena de fichas\")\n",
    "            return\n",
    "    else:\n",
    "            for fila in range (len(tablero) -1, -1, -1):\n",
    "                if tablero [fila][columna] == '.':\n",
    "                    tablero[fila][columna] = color\n",
    "                    return tablero\n"
   ]
  },
  {
   "cell_type": "code",
   "execution_count": 169,
   "metadata": {},
   "outputs": [
    {
     "data": {
      "text/plain": [
       "[['.', '.', '.', '.', '.', '.', '.'],\n",
       " ['.', '.', '.', '.', '.', '.', '.'],\n",
       " ['.', '.', '.', '.', '.', '.', '.'],\n",
       " ['.', '.', '.', '.', '.', '.', '.'],\n",
       " ['.', '.', '.', '.', '.', '.', '.'],\n",
       " ['.', '.', '.', '.', '.', '.', 'A']]"
      ]
     },
     "execution_count": 169,
     "metadata": {},
     "output_type": "execute_result"
    }
   ],
   "source": [
    "introducir_ficha(tablero, 6, 'A')"
   ]
  },
  {
   "cell_type": "code",
   "execution_count": 170,
   "metadata": {},
   "outputs": [
    {
     "name": "stdout",
     "output_type": "stream",
     "text": [
      "0 1 2 3 4 5 6 \n",
      ". . . . . . . \n",
      ". . . . . . . \n",
      ". . . . . . . \n",
      ". . . . . . . \n",
      ". . . . . . . \n",
      ". . . . . . A "
     ]
    }
   ],
   "source": [
    "mostrar_tablero(tablero)"
   ]
  },
  {
   "cell_type": "code",
   "execution_count": 171,
   "metadata": {},
   "outputs": [],
   "source": [
    "def revisar_filas(tablero, color):\n",
    "    # obtenemos el numero de filas y columnas\n",
    "    num_filas= len(tablero)\n",
    "    num_columnas = len(tablero[0])\n",
    "    # recorremos las filas de cuatro en raya\n",
    "    for r in range(num_filas):\n",
    "        for c in range(num_columnas -3):\n",
    "            if tablero [r][c] == color and tablero[r][c+1] == color and tablero [r][c+2] == color and tablero[r][c+3] == color:\n",
    "                return True\n",
    "\n"
   ]
  },
  {
   "cell_type": "code",
   "execution_count": 172,
   "metadata": {},
   "outputs": [],
   "source": [
    "def revisar_columnas(tablero, color):\n",
    "    # obtenemos el numero de filas y columnas\n",
    "    num_filas= len(tablero)\n",
    "    num_columnas = len(tablero[0])\n",
    "    # recorremos las filas de cuatro en raya\n",
    "    for c in range(num_columnas):\n",
    "        for r in range(num_filas -3):\n",
    "            if tablero [r][c] == color and tablero[r+1][c] == color and tablero [r+2][c] == color and tablero[r+3][c] == color:\n",
    "                return True\n"
   ]
  },
  {
   "cell_type": "code",
   "execution_count": 173,
   "metadata": {},
   "outputs": [],
   "source": [
    "def revisar_diagonal_derecha(tablero, color):\n",
    "    # obtenemos el numero de filas y columnas\n",
    "    num_filas= len(tablero)\n",
    "    num_columnas = len(tablero[0])\n",
    "    # recorremos las filas de cuatro en raya\n",
    "    for c in range(num_columnas -3):\n",
    "        for r in range(num_filas -1, 2, -1):\n",
    "            if tablero [r][c] == color and tablero[r-1][c+1] == color and tablero [r-2][c+2] == color and tablero[r-3][c+3] == color:\n",
    "                return True\n"
   ]
  },
  {
   "cell_type": "code",
   "execution_count": 174,
   "metadata": {},
   "outputs": [],
   "source": [
    "def revisar_diagonal_izquierda(tablero, color):\n",
    "    # obtenemos el numero de filas y columnas\n",
    "    num_filas= len(tablero)\n",
    "    num_columnas = len(tablero[0])\n",
    "    # recorremos las filas de cuatro en raya\n",
    "    for c in range(num_columnas -1, 2, -1):\n",
    "        for r in range(num_filas -1, 2, -1):\n",
    "            if tablero [r][c] == color and tablero[r-1][c+1] == color and tablero [r-2][c+2] == color and tablero[r-3][c+3] == color:\n",
    "                return True"
   ]
  },
  {
   "cell_type": "code",
   "execution_count": 175,
   "metadata": {},
   "outputs": [],
   "source": [
    "def comprobar_ganador(tablero,color):\n",
    "    \"\"\"comprueba si se ha producido un cuatro en raya.\"\"\"\n",
    "    return revisar_filas(tablero, color) or revisar_columnas(tablero, color) or revisar_diagonal_derecha(tablero, color) or revisar_diagonal_izquierda(tablero, color)\n"
   ]
  },
  {
   "cell_type": "code",
   "execution_count": 176,
   "metadata": {},
   "outputs": [
    {
     "name": "stdout",
     "output_type": "stream",
     "text": [
      "0 1 2 3 4 5 6 \n",
      ". . . . . . . \n",
      ". . . . . . . \n",
      ". . . . . . . \n",
      ". . . . . . . \n",
      ". . . . . . . \n",
      ". . . . . . A "
     ]
    }
   ],
   "source": [
    "mostrar_tablero(tablero)"
   ]
  },
  {
   "cell_type": "code",
   "execution_count": 177,
   "metadata": {},
   "outputs": [],
   "source": [
    "comprobar_ganador(tablero, 'R')"
   ]
  },
  {
   "cell_type": "code",
   "execution_count": 180,
   "metadata": {},
   "outputs": [
    {
     "name": "stdout",
     "output_type": "stream",
     "text": [
      "0 1 2 3 4 5 6 \n",
      ". . . . . . . \n",
      ". . . . . . . \n",
      ". . . . . . . \n",
      ". . . . . . . \n",
      ". . . . . . . \n",
      ". . . . . . . "
     ]
    },
    {
     "name": "stdout",
     "output_type": "stream",
     "text": [
      "0 1 2 3 4 5 6 \n",
      ". . . . . . . \n",
      ". . . . . . . \n",
      ". . . . . . . \n",
      ". . . . . . . \n",
      ". . . . . . . \n",
      ". . . A . . . 0 1 2 3 4 5 6 \n",
      ". . . . . . . \n",
      ". . . . . . . \n",
      ". . . . . . . \n",
      ". . . . . . . \n",
      ". . . R . . . \n",
      ". . . A . . . 0 1 2 3 4 5 6 \n",
      ". . . . . . . \n",
      ". . . . . . . \n",
      ". . . . . . . \n",
      ". . . . . . . \n",
      ". . . R . . . \n",
      ". . A A . . . 0 1 2 3 4 5 6 \n",
      ". . . . . . . \n",
      ". . . . . . . \n",
      ". . . . . . . \n",
      ". . . R . . . \n",
      ". . . R . . . \n",
      ". . A A . . . "
     ]
    },
    {
     "ename": "ValueError",
     "evalue": "invalid literal for int() with base 10: ''",
     "output_type": "error",
     "traceback": [
      "\u001b[1;31m---------------------------------------------------------------------------\u001b[0m",
      "\u001b[1;31mValueError\u001b[0m                                Traceback (most recent call last)",
      "Cell \u001b[1;32mIn[180], line 12\u001b[0m\n\u001b[0;32m     10\u001b[0m     siguiente_turno \u001b[39m=\u001b[39m \u001b[39m'\u001b[39m\u001b[39mA\u001b[39m\u001b[39m'\u001b[39m\n\u001b[0;32m     11\u001b[0m \u001b[39melif\u001b[39;00m turno \u001b[39m==\u001b[39m \u001b[39m'\u001b[39m\u001b[39mA\u001b[39m\u001b[39m'\u001b[39m:\n\u001b[1;32m---> 12\u001b[0m     columna \u001b[39m=\u001b[39m \u001b[39mint\u001b[39;49m(\u001b[39minput\u001b[39;49m(\u001b[39m\"\u001b[39;49m\u001b[39mturno del amarillo: \u001b[39;49m\u001b[39m\"\u001b[39;49m))\n\u001b[0;32m     13\u001b[0m     siguiente_turno\u001b[39m=\u001b[39m \u001b[39m'\u001b[39m\u001b[39mR\u001b[39m\u001b[39m'\u001b[39m\n\u001b[0;32m     15\u001b[0m introducir_ficha(tablero, columna, turno)\n",
      "\u001b[1;31mValueError\u001b[0m: invalid literal for int() with base 10: ''"
     ]
    }
   ],
   "source": [
    "tablero = crear_tablero(6,7)\n",
    "turno = 'R'\n",
    "siguiente_turno = 'A'\n",
    "while True:\n",
    "    turno = siguiente_turno\n",
    "    mostrar_tablero(tablero)\n",
    "\n",
    "    if turno =='R' :\n",
    "        columna = int(input(\"turno del rojo: \"))\n",
    "        siguiente_turno = 'A'\n",
    "    elif turno == 'A':\n",
    "        columna = int(input(\"turno del amarillo: \"))\n",
    "        siguiente_turno= 'R'\n",
    "\n",
    "    introducir_ficha(tablero, columna, turno)\n",
    "\n",
    "    \n",
    "    if comprobar_ganador(tablero, turno):\n",
    "        print(\"!ganador¡ jugador\", turno, \"\\n\\n\")\n",
    "        mostrar_tablero(tablero)\n",
    "        break\n"
   ]
  },
  {
   "cell_type": "code",
   "execution_count": null,
   "metadata": {},
   "outputs": [],
   "source": []
  },
  {
   "attachments": {},
   "cell_type": "markdown",
   "metadata": {},
   "source": [
    "<div style=\"background-color:#D9EEFF;color:black;padding:2%;\">\n",
    "Una vez implementada la función para crear el tablero, implementa otra función que permita imprimir el tablero por pantalla de manera que el resultado sea similar al que se muestra en la imagen anterior.\n",
    "</div>"
   ]
  },
  {
   "attachments": {},
   "cell_type": "markdown",
   "metadata": {},
   "source": [
    "**Pista:** Te recomiendo que la definición de la función sea similar a la siguiente:\n",
    "```\n",
    "def mostrar_tablero(tablero):\n",
    "    <sentencias para mostrar el tablero por pantalla>\n",
    "```"
   ]
  },
  {
   "cell_type": "code",
   "execution_count": null,
   "metadata": {},
   "outputs": [],
   "source": []
  },
  {
   "cell_type": "code",
   "execution_count": null,
   "metadata": {},
   "outputs": [],
   "source": []
  },
  {
   "attachments": {},
   "cell_type": "markdown",
   "metadata": {},
   "source": [
    "### 2. Introducir fichas en el tablero"
   ]
  },
  {
   "attachments": {},
   "cell_type": "markdown",
   "metadata": {},
   "source": [
    "¡Genial! Ya tienes el tablero implementado, lo siguiente que debes hacer es implementar las funciones que se requieren para que los usuarios puedan introducir fichas en el tablero."
   ]
  },
  {
   "attachments": {},
   "cell_type": "markdown",
   "metadata": {},
   "source": [
    "<div style=\"background-color:#D9EEFF;color:black;padding:2%;\">\n",
    "Implementa una función que permita introducir una nueva ficha en el tablero. Para ello, ten en cuenta varias condiciones importantes, como, por ejemplo, que la columna no se encuentre fuera del rango o que la columna no se encuentre llena de fichas.\n",
    "</div>"
   ]
  },
  {
   "attachments": {},
   "cell_type": "markdown",
   "metadata": {},
   "source": [
    "El resultado de introducir las fichas en el tablero debe ser similar al que se muestra en la siguiente imagen:"
   ]
  },
  {
   "attachments": {},
   "cell_type": "markdown",
   "metadata": {},
   "source": [
    "<div>\n",
    "<img src=\"attachment:image.png\" width=\"200\"/>\n",
    "</div>"
   ]
  },
  {
   "attachments": {},
   "cell_type": "markdown",
   "metadata": {},
   "source": [
    "**Pista:** Te recomiendo que la definición de la función sea similar a la siguiente:\n",
    "```\n",
    "def introducir_ficha(tablero, columna, color):\n",
    "    <sentencias para introducir una ficha en el tablero>\n",
    "    return tablero\n",
    "```"
   ]
  },
  {
   "cell_type": "code",
   "execution_count": null,
   "metadata": {},
   "outputs": [],
   "source": []
  },
  {
   "cell_type": "code",
   "execution_count": null,
   "metadata": {},
   "outputs": [],
   "source": []
  },
  {
   "cell_type": "code",
   "execution_count": null,
   "metadata": {},
   "outputs": [],
   "source": []
  },
  {
   "attachments": {},
   "cell_type": "markdown",
   "metadata": {},
   "source": [
    "### 3. Comprobar si se realiza cuatro en raya"
   ]
  },
  {
   "attachments": {},
   "cell_type": "markdown",
   "metadata": {},
   "source": [
    "Ya tenemos nuestro tablero implementado y podemos meter fichas en él, sin embargo, nos falta uno de los comportamientos más importantes de este juego, la comprobación de si un usuario ha realizado cuatro en raya."
   ]
  },
  {
   "attachments": {},
   "cell_type": "markdown",
   "metadata": {},
   "source": [
    "<div style=\"background-color:#D9EEFF;color:black;padding:2%;\">\n",
    "    Implementa cuatro funciones que permitan verificar si se ha realizado cuatro en raya en horizaonal, vertical o diagonal.</div>"
   ]
  },
  {
   "attachments": {},
   "cell_type": "markdown",
   "metadata": {},
   "source": [
    "**Pista:** Te recomiendo que la definición de la función para revisar cuatro en raya en horizontal (filas) sea similar a la siguiente:\n",
    "```\n",
    "def revisar_filas(tablero, color):\n",
    "    <sentencias para verificar cuatro en raya en horizontal>\n",
    "    return True o False\n",
    "```"
   ]
  },
  {
   "cell_type": "code",
   "execution_count": null,
   "metadata": {},
   "outputs": [],
   "source": []
  },
  {
   "attachments": {},
   "cell_type": "markdown",
   "metadata": {},
   "source": [
    "**Pista:** Te recomiendo que la definición de la función para revisar cuatro en raya en vertical (columnas) sea similar a la siguiente:\n",
    "```\n",
    "def revisar_columnas(tablero, color):\n",
    "    <sentencias para verificar cuatro en raya en vertical>\n",
    "    return True o False\n",
    "```"
   ]
  },
  {
   "cell_type": "code",
   "execution_count": null,
   "metadata": {},
   "outputs": [],
   "source": []
  },
  {
   "attachments": {},
   "cell_type": "markdown",
   "metadata": {},
   "source": [
    "**Pista:** Te recomiendo que la definición de la función para revisar cuatro en raya en la diagonal derecha sea similar a la siguiente:\n",
    "```\n",
    "def revisar_diagonal_derecha(tablero, color):\n",
    "    <sentencias para verificar cuatro en raya en diagonal derecha>\n",
    "    return True o False\n",
    "```"
   ]
  },
  {
   "cell_type": "code",
   "execution_count": null,
   "metadata": {},
   "outputs": [],
   "source": []
  },
  {
   "attachments": {},
   "cell_type": "markdown",
   "metadata": {},
   "source": [
    "**Pista:** Te recomiendo que la definición de la función para revisar cuatro en raya en la diagonal izquierda sea similar a la siguiente:\n",
    "```\n",
    "def revisar_diagonal_izquierda(tablero, color):\n",
    "    <sentencias para verificar cuatro en raya en diagonal izquierda>\n",
    "    return True o False\n",
    "```"
   ]
  },
  {
   "cell_type": "code",
   "execution_count": null,
   "metadata": {},
   "outputs": [],
   "source": []
  },
  {
   "attachments": {},
   "cell_type": "markdown",
   "metadata": {},
   "source": [
    "<div style=\"background-color:#D9EEFF;color:black;padding:2%;\">\n",
    "    Implementa una función que agrupe las cuatro funciones anteriores.</div>"
   ]
  },
  {
   "attachments": {},
   "cell_type": "markdown",
   "metadata": {},
   "source": [
    "**Pista:** Te recomiendo que la definición de la función para revisar cuatro en raya en la diagonal izquierda sea similar a la siguiente:\n",
    "```\n",
    "def comprobar_ganador(tablero, color):\n",
    "    <sentencias para verificar si se ha realizado cuatro en raya en todas las posiciones>\n",
    "    return True o False\n",
    "```"
   ]
  },
  {
   "cell_type": "code",
   "execution_count": null,
   "metadata": {},
   "outputs": [],
   "source": []
  },
  {
   "attachments": {},
   "cell_type": "markdown",
   "metadata": {},
   "source": [
    "Realiza algunas pruebas para comprobar si tus funciones de comprobación del ganador funcionan correctamente."
   ]
  },
  {
   "cell_type": "code",
   "execution_count": null,
   "metadata": {},
   "outputs": [],
   "source": []
  },
  {
   "cell_type": "code",
   "execution_count": null,
   "metadata": {},
   "outputs": [],
   "source": []
  },
  {
   "cell_type": "code",
   "execution_count": null,
   "metadata": {},
   "outputs": [],
   "source": []
  },
  {
   "attachments": {},
   "cell_type": "markdown",
   "metadata": {},
   "source": [
    "### 4. Crear el menu de juego"
   ]
  },
  {
   "attachments": {},
   "cell_type": "markdown",
   "metadata": {},
   "source": [
    "¡Enhorabuena! Ya has implementado la parte más dificil del juego, lo único que debes hacer ahora es poner todo lo anterior en común e implementar el menu de juego para que los usuarios puedan introducir fichas por turnos hasta que uno de ellos gane."
   ]
  },
  {
   "attachments": {},
   "cell_type": "markdown",
   "metadata": {},
   "source": [
    "<div style=\"background-color:#D9EEFF;color:black;padding:2%;\">Implementa un menu de juego que solicite a los usuarios que introduzcan una ficha por turnos. Ten en cuenta que esta acción debe repetirse hasta que uno de los dos usuarios gane el juego o se acaben las casillas disponibles para introducir fichas.</div>"
   ]
  },
  {
   "attachments": {},
   "cell_type": "markdown",
   "metadata": {},
   "source": [
    "**Pista:** Recuerda que la sentencia `while True` nos permitía ejecutar un conjunto de sentencias de código en Python hasta que rompiesemos la ejecución utilizando algún mecanismo como la palabra reservada `break`."
   ]
  },
  {
   "attachments": {},
   "cell_type": "markdown",
   "metadata": {},
   "source": [
    "**Pista 2**: Utiliza la sentencia que se muestra a continuación para limpiar la pantall cada vez que muestres el tablero."
   ]
  },
  {
   "cell_type": "code",
   "execution_count": null,
   "metadata": {},
   "outputs": [],
   "source": []
  },
  {
   "cell_type": "code",
   "execution_count": null,
   "metadata": {},
   "outputs": [],
   "source": []
  },
  {
   "cell_type": "code",
   "execution_count": null,
   "metadata": {},
   "outputs": [],
   "source": []
  }
 ],
 "metadata": {
  "kernelspec": {
   "display_name": "Python 3",
   "language": "python",
   "name": "python3"
  },
  "language_info": {
   "codemirror_mode": {
    "name": "ipython",
    "version": 3
   },
   "file_extension": ".py",
   "mimetype": "text/x-python",
   "name": "python",
   "nbconvert_exporter": "python",
   "pygments_lexer": "ipython3",
   "version": "3.11.3"
  }
 },
 "nbformat": 4,
 "nbformat_minor": 4
}
